{
 "cells": [
  {
   "cell_type": "markdown",
   "metadata": {},
   "source": [
    "# AMGeO API Release\n",
    "\n",
    "![AMGeO Logo](./static/AMGeOLogo.svg)"
   ]
  },
  {
   "cell_type": "markdown",
   "metadata": {},
   "source": [
    "Welcome to the AMGeO API release notebook, going over the API and how to use it.\n",
    "\n",
    "### TODO: different ways to run this notebook"
   ]
  },
  {
   "cell_type": "markdown",
   "metadata": {},
   "source": [
    "### Special thanks to all of our data providers!\n",
    "\n",
    "- [SuperMAG](https://supermag.jhuapl.edu/)\n",
    "- [SuperDARN](http://vt.superdarn.org/tiki-index.php)\n",
    "- [AMPERE](http://ampere.jhuapl.edu/)\n",
    "- [NASA SPDF](https://spdf.gsfc.nasa.gov/)"
   ]
  },
  {
   "cell_type": "markdown",
   "metadata": {},
   "source": [
    "# AMGeO's new API"
   ]
  },
  {
   "cell_type": "markdown",
   "metadata": {},
   "source": [
    "## Importing the API\n",
    "\n",
    "To import AMGeO's Python API, execute the below. \n",
    "\n",
    "<mark>NOTE:</mark> upon import, if you have not configured AMGeO with your API key, SuperMAG username or AMPERE username, this will be asked here (with instructions on how to get each)."
   ]
  },
  {
   "cell_type": "code",
   "execution_count": 1,
   "metadata": {},
   "outputs": [
    {
     "name": "stdout",
     "output_type": "stream",
     "text": [
      "Solar wind data files will be saved to /Users/willemmirkovich/Library/Application Support/nasaomnireader\n",
      "\n",
      "------------IMPORTANT----------------------------\n",
      "Unable to import spacepy. Will fall back to\n",
      "using Omni text files, which may have slightly\n",
      "different data and incomplete metadata\n",
      "-------------------------------------------------\n",
      "\n"
     ]
    }
   ],
   "source": [
    "from AMGeO.api import AMGeOApi"
   ]
  },
  {
   "cell_type": "markdown",
   "metadata": {},
   "source": [
    "## Creating an AMGeO API instance\n",
    "\n",
    "Here, we can create an AMGeO API instance, and get various details as to a default API instance"
   ]
  },
  {
   "cell_type": "code",
   "execution_count": 2,
   "metadata": {
    "scrolled": true
   },
   "outputs": [
    {
     "data": {
      "text/plain": [
       "AMGeO API instance\n",
       "current configuration: default\n",
       "current output directory: ./amgeo_out"
      ]
     },
     "execution_count": 2,
     "metadata": {},
     "output_type": "execute_result"
    }
   ],
   "source": [
    "api = AMGeOApi()\n",
    "api"
   ]
  },
  {
   "cell_type": "markdown",
   "metadata": {},
   "source": [
    "### Setting our output directory for AMGeO data\n",
    "\n",
    "When running AMGeO, a local file system directory will be selected to store your assimilative maps. By default, AMGeo will use ```~/amgeo_v2_ouptput```"
   ]
  },
  {
   "cell_type": "code",
   "execution_count": 3,
   "metadata": {},
   "outputs": [
    {
     "data": {
      "text/plain": [
       "'./amgeo_out'"
      ]
     },
     "execution_count": 3,
     "metadata": {},
     "output_type": "execute_result"
    }
   ],
   "source": [
    "api.get_output_dir()"
   ]
  },
  {
   "cell_type": "markdown",
   "metadata": {},
   "source": [
    "But, if you want to specify another directory, you can set this in the API instance using ```set_output_dir```"
   ]
  },
  {
   "cell_type": "code",
   "execution_count": 4,
   "metadata": {},
   "outputs": [],
   "source": [
    "api.set_output_dir('./amgeo_out')"
   ]
  },
  {
   "cell_type": "code",
   "execution_count": 5,
   "metadata": {},
   "outputs": [
    {
     "data": {
      "text/plain": [
       "'./amgeo_out'"
      ]
     },
     "execution_count": 5,
     "metadata": {},
     "output_type": "execute_result"
    }
   ],
   "source": [
    "api.get_output_dir()"
   ]
  },
  {
   "cell_type": "markdown",
   "metadata": {},
   "source": [
    "# Creating assimilative maps using AMGeO's new API\n",
    "\n",
    "Now that we have an AMGeO API instance, we can start creating new assimilative map data!"
   ]
  },
  {
   "cell_type": "markdown",
   "metadata": {},
   "source": [
    "## Creating an AMGeO Controller\n",
    "\n",
    "To generate assimilative maps, you will have to load specific settings from AMGeO. Conveniently, AMGeO's new API allows for a simple way to load AMGeO's default settings using a ```controller```.\n",
    "\n",
    "To create a ```controller``` instance, you can call ```get_controller``` on an API instance"
   ]
  },
  {
   "cell_type": "code",
   "execution_count": 6,
   "metadata": {},
   "outputs": [
    {
     "data": {
      "text/plain": [
       "Default AMGeO Controller\n",
       "Creates Assimilative Maps using SuperMAG and SuperDARN observations\n",
       "Does not predict magnetic potential nor field-aligned current"
      ]
     },
     "execution_count": 6,
     "metadata": {},
     "output_type": "execute_result"
    }
   ],
   "source": [
    "controller = api.get_controller()\n",
    "controller"
   ]
  },
  {
   "cell_type": "markdown",
   "metadata": {},
   "source": [
    "As observerd, calling ```get_controller``` returns an ```Default AMGeO Controller```, that is able to both create and load assimilative maps using AMGeO's default settings. "
   ]
  },
  {
   "cell_type": "markdown",
   "metadata": {},
   "source": [
    "## Generating AMGeO maps\n",
    "\n",
    "<img src=\"./static/AMGeOElectricPotentialMap.png\" width=\"500px\" height=\"500px\">\n",
    "\n",
    "Now that we have a ```controller``` instance, we can create assimilative maps by calling the ```generate``` method on our ```controller```. This method takes both a hemisphere and a date argument. For example, if we wanted to generate maps for dates:\n",
    "\n",
    "- January 6th, 2013 12:30:00\n",
    "- January 6th, 2013 13:30:00\n",
    "- February 6th, 2013 12:30:00\n",
    "- February 6th, 2013 13:30:00\n",
    "\n",
    "and on the Northern hemisphere, we can call ```generate``` with ..."
   ]
  },
  {
   "cell_type": "code",
   "execution_count": 7,
   "metadata": {},
   "outputs": [],
   "source": [
    "# datetime module is used for passing dates/datetimes\n",
    "from datetime import datetime, date"
   ]
  },
  {
   "cell_type": "code",
   "execution_count": 8,
   "metadata": {},
   "outputs": [],
   "source": [
    "dts = [\n",
    "    datetime(2013, 1, 6, 12, 30, 0), # January 6th, 2013 12:30:00\n",
    "    datetime(2013, 1, 6, 13, 30, 0), # January 6th, 2013 13:30:00\n",
    "    datetime(2013, 2, 6, 12, 30, 0), # February 6th, 2013 12:30:00\n",
    "    datetime(2013, 2, 6, 13, 30, 0) # February 6th, 2013 13:30:00\n",
    "]\n",
    "# hemisphere\n",
    "h = 'N'"
   ]
  },
  {
   "cell_type": "code",
   "execution_count": null,
   "metadata": {
    "scrolled": true
   },
   "outputs": [
    {
     "name": "stdout",
     "output_type": "stream",
     "text": [
      "Data requested for 2 day(s)\n"
     ]
    },
    {
     "data": {
      "application/vnd.jupyter.widget-view+json": {
       "model_id": "c58ff09ce0e5436e8ce7313b39902cfe",
       "version_major": 2,
       "version_minor": 0
      },
      "text/plain": [
       "HBox(children=(FloatProgress(value=0.0, max=2.0), HTML(value='')))"
      ]
     },
     "metadata": {},
     "output_type": "display_data"
    },
    {
     "name": "stdout",
     "output_type": "stream",
     "text": [
      "Request recieved for 2013-1-6 N\n",
      "Contacting AMGeO Server for data\n",
      "Running AMGeO for 2 times on 2013-1-6 N\n"
     ]
    },
    {
     "data": {
      "application/vnd.jupyter.widget-view+json": {
       "model_id": "9b5daac5504a4e6bb6d6ee4de25fa575",
       "version_major": 2,
       "version_minor": 0
      },
      "text/plain": [
       "HBox(children=(FloatProgress(value=0.0, max=2.0), HTML(value='')))"
      ]
     },
     "metadata": {},
     "output_type": "display_data"
    },
    {
     "name": "stdout",
     "output_type": "stream",
     "text": [
      "\n",
      "2013-1-6 N complete\n",
      "Request recieved for 2013-2-6 N\n",
      "Contacting AMGeO Server for data\n"
     ]
    }
   ],
   "source": [
    "controller.generate(dts, h)"
   ]
  },
  {
   "cell_type": "markdown",
   "metadata": {},
   "source": [
    "Once complete, we will be able to see generated AMGeO maps for each datetime.\n",
    "\n",
    "```controller.generate``` supports multiple different ways of generating maps based on dates/datetimes:\n",
    "\n",
    "1. A single datetime\n",
    "\n",
    "    Will generate data for a specific date and time \n",
    "    ```python\n",
    "    controller.generate(datetime(YYYY, MM, DD, hh, mm, ss), 'N' | 'S')\n",
    "    ```\n",
    "    \n",
    "2. A single date\n",
    "\n",
    "    Will generate data for 5 min slices over the entire date provided\n",
    "    # TODO: need to fix these to correct time slices\n",
    "    Ex: date(2013, 5, 5) => datetime(2013, 5, 5, 0, 2, 30), datetime(2013, 5, 5, 0, 2, 30)\n",
    "    ```python\n",
    "    controller.generate(date(YYYY, MMMM, DD), 'N' | 'S')\n",
    "    ```\n",
    "3. A list of dates/datetimes\n",
    "\n",
    "    This will handle each element within the list on a case by case basis, in a bulk job\n",
    "    ```python\n",
    "    controller.generate([\n",
    "        datetime(YYYY, MM, DD, hh, mm, ss),\n",
    "        date(YYYY, MM, DD),\n",
    "        ...\n",
    "    ], 'N' | 'S')\n",
    "    ```"
   ]
  },
  {
   "cell_type": "markdown",
   "metadata": {},
   "source": [
    "## Browsing AMGeO maps\n",
    "\n",
    "Once we have generated AMGeO maps, we might be interested in browsing what maps we have available.\n",
    "\n",
    "To do this, the ```controller``` has a ```browse``` method that can be used in two ways."
   ]
  },
  {
   "cell_type": "markdown",
   "metadata": {},
   "source": [
    "1. Browse based on a hemisphere which dates have AMGeO maps already generated.\n",
    "\n",
    "    ```python\n",
    "    controller.browse('N' | 'S')\n",
    "    ```"
   ]
  },
  {
   "cell_type": "code",
   "execution_count": null,
   "metadata": {
    "scrolled": true
   },
   "outputs": [],
   "source": [
    "controller.browse('N')"
   ]
  },
  {
   "cell_type": "markdown",
   "metadata": {},
   "source": [
    "2. Specify a date and hemisphere for specific times that AMGeO has generated maps for\n",
    "\n",
    "    ```python\n",
    "    controller.browse(date(YYYY, MM, DD), 'N' | 'S')\n",
    "    ```"
   ]
  },
  {
   "cell_type": "code",
   "execution_count": null,
   "metadata": {
    "scrolled": true
   },
   "outputs": [],
   "source": [
    "controller.browse(date(2013, 2, 6), 'N')"
   ]
  },
  {
   "cell_type": "markdown",
   "metadata": {},
   "source": [
    "## Loading AMGeO maps\n",
    "\n",
    "The last and most important piece of AMGeO's new API is the ability to load AMGeO maps into [Xarray datasets](http://xarray.pydata.org/en/stable/generated/xarray.Dataset.html), with no work needed other than calling ```controller.load```\n",
    "\n",
    "```load``` supports the same modularity as ```generate```, to allow for you load various dates/datetimes on a given hemisphere into one dataset."
   ]
  },
  {
   "cell_type": "markdown",
   "metadata": {},
   "source": [
    "1. A single datetime\n",
    "\n",
    "    Will load the specific date into a dataset\n",
    "    ```python\n",
    "    controller.load(datetime(YYYY, MM, DD, hh, mm, ss), 'N' | 'S')\n",
    "    ```"
   ]
  },
  {
   "cell_type": "code",
   "execution_count": null,
   "metadata": {
    "scrolled": true
   },
   "outputs": [],
   "source": [
    "controller.load(datetime(2013, 1, 6, 12, 30, 0), 'N')"
   ]
  },
  {
   "cell_type": "markdown",
   "metadata": {},
   "source": [
    "2. A single date\n",
    "\n",
    "    Will load all maps availabe from a date\n",
    "    ```python\n",
    "    controller.load(date(YYYY, MM, DD), 'N' | 'S')\n",
    "    ```"
   ]
  },
  {
   "cell_type": "code",
   "execution_count": null,
   "metadata": {
    "scrolled": true
   },
   "outputs": [],
   "source": [
    "controller.load(date(2013, 1, 6), 'N')"
   ]
  },
  {
   "cell_type": "markdown",
   "metadata": {},
   "source": [
    "3. A list of dates/datetimes\n",
    "\n",
    "    Will load each date/datetime respectively from the list. NOTE: you can load from multiple dates into one dataset\n",
    "    ```python\n",
    "    controller.load([\n",
    "        datetime(YYYY, MM, DD, hh, mm, ss),\n",
    "        date(YYYY, MM, DD),\n",
    "        ...\n",
    "    ], 'N' | 'S')\n",
    "    ```"
   ]
  },
  {
   "cell_type": "code",
   "execution_count": null,
   "metadata": {},
   "outputs": [],
   "source": [
    "controller.load([\n",
    "    date(2013, 1, 6),\n",
    "    datetime(2013, 2, 6, 12, 30, 0)\n",
    "], 'N')"
   ]
  },
  {
   "cell_type": "markdown",
   "metadata": {},
   "source": [
    "As you may have noticed, it is really easy to plug dates from the ```browse``` method into the ```load``` method"
   ]
  },
  {
   "cell_type": "code",
   "execution_count": null,
   "metadata": {},
   "outputs": [],
   "source": [
    "hemi = 'N'\n",
    "dates = controller.browse(hemi)\n",
    "controller.load(dates, hemi)"
   ]
  },
  {
   "cell_type": "markdown",
   "metadata": {},
   "source": [
    "## Xarray Datasets\n",
    "\n",
    "This section is to go over some of the neat features that come with interacting with AMGeO maps with Xarray datasets\n",
    "\n",
    "Below is the organization of an Xarray dataset with AMGeO maps\n",
    "\n",
    "![AMGeO Xarray dataset](./static/AMGeOXarrayDataset.png)"
   ]
  },
  {
   "cell_type": "markdown",
   "metadata": {},
   "source": [
    "### Data Variables"
   ]
  },
  {
   "cell_type": "markdown",
   "metadata": {},
   "source": [
    "### Coordinates/Dimensions"
   ]
  },
  {
   "cell_type": "markdown",
   "metadata": {},
   "source": [
    "### Metadata"
   ]
  },
  {
   "cell_type": "markdown",
   "metadata": {},
   "source": [
    "### Plotting"
   ]
  },
  {
   "cell_type": "markdown",
   "metadata": {},
   "source": [
    "### Numpy compatability"
   ]
  },
  {
   "cell_type": "markdown",
   "metadata": {},
   "source": [
    "### Pandas compatability"
   ]
  },
  {
   "cell_type": "markdown",
   "metadata": {},
   "source": [
    "# Conclusion\n",
    "\n",
    "Thanks for checking out this notebook going over AMGeO's new API! \n",
    "\n",
    "Please get started with AMGeO [here](https://amgeo.colorado.edu/)\n",
    "\n",
    "TODO: fill in"
   ]
  }
 ],
 "metadata": {
  "kernelspec": {
   "display_name": "Python 3",
   "language": "python",
   "name": "python3"
  },
  "language_info": {
   "codemirror_mode": {
    "name": "ipython",
    "version": 3
   },
   "file_extension": ".py",
   "mimetype": "text/x-python",
   "name": "python",
   "nbconvert_exporter": "python",
   "pygments_lexer": "ipython3",
   "version": "3.7.6"
  }
 },
 "nbformat": 4,
 "nbformat_minor": 4
}
